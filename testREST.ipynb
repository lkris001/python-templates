{
 "cells": [
  {
   "cell_type": "code",
   "execution_count": 1,
   "id": "3622f05d-4777-4774-8a84-de65785d93f8",
   "metadata": {},
   "outputs": [
    {
     "name": "stdout",
     "output_type": "stream",
     "text": [
      "{'address': {'geolocation': {'lat': '-37.3159', 'long': '81.1496'}, 'city': 'kilcoole', 'street': 'new road', 'number': 7682, 'zipcode': '12926-3874'}, 'id': 1, 'email': 'john@gmail.com', 'username': 'johnd', 'password': 'm38rmF$', 'name': {'firstname': 'john', 'lastname': 'doe'}, 'phone': '1-570-236-7033', '__v': 0}\n"
     ]
    }
   ],
   "source": [
    "import requests\n",
    "api_url = \"https://fakestoreapi.com/users/1\"\n",
    "response = requests.get(api_url)\n",
    "print(response.json())"
   ]
  },
  {
   "cell_type": "code",
   "execution_count": null,
   "id": "553c2247-ed30-4d45-9a1b-a052c1e7e29e",
   "metadata": {},
   "outputs": [],
   "source": []
  },
  {
   "cell_type": "code",
   "execution_count": null,
   "id": "43fb80a8-0a0a-43f1-9451-054702dc4a5f",
   "metadata": {},
   "outputs": [],
   "source": []
  },
  {
   "cell_type": "code",
   "execution_count": null,
   "id": "3858dea3-3609-46a6-8ed5-eaddda442878",
   "metadata": {},
   "outputs": [],
   "source": []
  }
 ],
 "metadata": {
  "kernelspec": {
   "display_name": "Python 3 (ipykernel)",
   "language": "python",
   "name": "python3"
  },
  "language_info": {
   "codemirror_mode": {
    "name": "ipython",
    "version": 3
   },
   "file_extension": ".py",
   "mimetype": "text/x-python",
   "name": "python",
   "nbconvert_exporter": "python",
   "pygments_lexer": "ipython3",
   "version": "3.9.6"
  }
 },
 "nbformat": 4,
 "nbformat_minor": 5
}
