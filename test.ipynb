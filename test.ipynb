import pyodbc

conn = pyodbc.connect('Driver={SQL Server};'
											'Server=sql6.freesqldatabase.com:3306;'
											'Database=sql6639250;'
											'Trusted_Connection=yes;')

cursor = conn.cursor()
cursor.execute('SELECT * FROM PersonID')

for i in cursor:
		print(i)