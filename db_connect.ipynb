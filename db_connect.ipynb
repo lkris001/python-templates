

#To connect to a database using Python, you can use the `sqlite3` module for SQLite databases or various other modules for different database management systems like MySQL, PostgreSQL, etc. Here's an example of connecting to an SQLite database:
#

import pyodbc

conn = pyodbc.connect('Driver={SQL Server};'
											'Server=sql6.freesqldatabase.com:3306;'
											'Database=sql6639250;'
											'Trusted_Connection=yes;')

cursor = conn.cursor()
cursor.execute('SELECT * FROM PersonID')

for i in cursor:
		print(i)
	